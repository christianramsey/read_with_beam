{
 "cells": [
  {
   "cell_type": "code",
   "execution_count": 1,
   "metadata": {},
   "outputs": [],
   "source": [
    "# from __future__ import absolute_import\n",
    "# import argparse\n",
    "# import logging\n",
    "import apache_beam as beam\n",
    "import apache_beam.pipeline as pipeline\n",
    "from apache_beam.options.pipeline_options import PipelineOptions\n",
    "\n",
    "# What > Remove the first four lines\n",
    "# Where > Within a single implicit global event-time window\n",
    "# When > Once, when the entire bounded input source has been consumed\n",
    "# How > Not relevant"
   ]
  },
  {
   "cell_type": "code",
   "execution_count": 2,
   "metadata": {},
   "outputs": [],
   "source": [
    "p = beam.Pipeline(options=PipelineOptions())\n",
    "# distributed\n",
    "lines = p | 'ReadFromText' >> beam.io.ReadFromText('/Users/cramsey/Documents/Distributed Deep Learning/Reading Data/beam_read/read_with_beam/data/*.plt')\n",
    "\n"
   ]
  },
  {
   "cell_type": "code",
   "execution_count": 3,
   "metadata": {},
   "outputs": [],
   "source": [
    "lines = lines | 'DMV' >> beam.Filter(lambda row: len(row.split(',')) == 8)"
   ]
  },
  {
   "cell_type": "code",
   "execution_count": 4,
   "metadata": {},
   "outputs": [
    {
     "name": "stderr",
     "output_type": "stream",
     "text": [
      "/Library/Frameworks/Python.framework/Versions/2.7/lib/python2.7/site-packages/apache_beam/coders/typecoders.py:134: UserWarning: Using fallback coder for typehint: <type 'NoneType'>.\n",
      "  warnings.warn('Using fallback coder for typehint: %r.' % typehint)\n"
     ]
    },
    {
     "data": {
      "text/plain": [
       "<apache_beam.runners.direct.direct_runner.DirectPipelineResult at 0x10768b550>"
      ]
     },
     "execution_count": 4,
     "metadata": {},
     "output_type": "execute_result"
    }
   ],
   "source": [
    "\n",
    "\n",
    "lines | 'WriteMyFile' >> beam.io.WriteToText(\n",
    "      '/Users/cramsey/Documents/Distributed Deep Learning/Reading Data/beam_read/read_with_beam/beam_data/outputData.csv')\n",
    "p.run()"
   ]
  },
  {
   "cell_type": "code",
   "execution_count": null,
   "metadata": {},
   "outputs": [],
   "source": []
  },
  {
   "cell_type": "code",
   "execution_count": null,
   "metadata": {},
   "outputs": [],
   "source": []
  }
 ],
 "metadata": {
  "kernelspec": {
   "display_name": "Python 2",
   "language": "python",
   "name": "python2"
  },
  "language_info": {
   "codemirror_mode": {
    "name": "ipython",
    "version": 2
   },
   "file_extension": ".py",
   "mimetype": "text/x-python",
   "name": "python",
   "nbconvert_exporter": "python",
   "pygments_lexer": "ipython2",
   "version": "2.7.14"
  }
 },
 "nbformat": 4,
 "nbformat_minor": 2
}
